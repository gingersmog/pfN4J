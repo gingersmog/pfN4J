{
 "cells": [
  {
   "cell_type": "code",
   "execution_count": 99,
   "metadata": {},
   "outputs": [],
   "source": [
    "from py2neo import Graph,Node,Relationship\n",
    "import pandas as pd\n",
    "import matplotlib.pyplot as plot"
   ]
  },
  {
   "cell_type": "code",
   "execution_count": 4,
   "metadata": {},
   "outputs": [],
   "source": [
    "graph = Graph('http://localhost:7474', auth=('neo4j', 'xxxx'))"
   ]
  },
  {
   "cell_type": "markdown",
   "metadata": {},
   "source": [
    "# Load Data\n",
    "\n",
    "The data load scripts below have been maintained in markdown as they have been run in the neo4j desktop app rather than via Jupyter\n",
    "\n",
    "### Load customer CSV data"
   ]
  },
  {
   "cell_type": "code",
   "execution_count": 127,
   "metadata": {},
   "outputs": [
    {
     "data": {
      "text/html": [
       "(No data)"
      ],
      "text/plain": [
       "(No data)"
      ]
     },
     "execution_count": 127,
     "metadata": {},
     "output_type": "execute_result"
    }
   ],
   "source": [
    "graph.run('LOAD CSV WITH HEADERS FROM \"file:///customers.csv\" AS row CREATE (c:Customer) SET c += row')"
   ]
  },
  {
   "cell_type": "markdown",
   "metadata": {},
   "source": [
    "### Load accounts data\n"
   ]
  },
  {
   "cell_type": "code",
   "execution_count": 129,
   "metadata": {},
   "outputs": [
    {
     "data": {
      "text/html": [
       "(No data)"
      ],
      "text/plain": [
       "(No data)"
      ]
     },
     "execution_count": 129,
     "metadata": {},
     "output_type": "execute_result"
    }
   ],
   "source": [
    "graph.run(\"\"\"LOAD CSV WITH HEADERS FROM \"file:///accounts.csv\" AS row \n",
    " CREATE (:Account {account_id : row.account_id, customer_id : row.customer_id,\n",
    " account_type : row.account_type, channel:row.channel })\"\"\")"
   ]
  },
  {
   "cell_type": "markdown",
   "metadata": {},
   "source": [
    "### Create relationship between customer and accounts \n"
   ]
  },
  {
   "cell_type": "code",
   "execution_count": 130,
   "metadata": {},
   "outputs": [
    {
     "data": {
      "text/html": [
       "(No data)"
      ],
      "text/plain": [
       "(No data)"
      ]
     },
     "execution_count": 130,
     "metadata": {},
     "output_type": "execute_result"
    }
   ],
   "source": [
    "graph.run(\"\"\"LOAD CSV WITH HEADERS FROM \"file:///accounts.csv\" AS row \n",
    "MATCH (account : Account {account_id : row.account_id })\n",
    "MATCH (customer:Customer) WHERE customer.customer_id = row.customer_id\n",
    "CREATE (customer)-[:HAS]->(account)\"\"\")"
   ]
  },
  {
   "cell_type": "markdown",
   "metadata": {},
   "source": [
    "### Load funds data\n"
   ]
  },
  {
   "cell_type": "code",
   "execution_count": 131,
   "metadata": {},
   "outputs": [
    {
     "data": {
      "text/html": [
       "(No data)"
      ],
      "text/plain": [
       "(No data)"
      ]
     },
     "execution_count": 131,
     "metadata": {},
     "output_type": "execute_result"
    }
   ],
   "source": [
    "graph.run(\"\"\"LOAD CSV WITH HEADERS FROM \"file:///funds.csv\" AS row\n",
    "CREATE (c:Fund)\n",
    "SET c += row\"\"\")"
   ]
  },
  {
   "cell_type": "markdown",
   "metadata": {},
   "source": [
    "### Load account purchase data and create a relationship between account and fund \n"
   ]
  },
  {
   "cell_type": "code",
   "execution_count": 132,
   "metadata": {},
   "outputs": [
    {
     "data": {
      "text/html": [
       "(No data)"
      ],
      "text/plain": [
       "(No data)"
      ]
     },
     "execution_count": 132,
     "metadata": {},
     "output_type": "execute_result"
    }
   ],
   "source": [
    "graph.run(\"\"\"LOAD CSV WITH HEADERS FROM \"file:///account_purchases.csv\" AS row \n",
    "MATCH (account : Account {account_id : row.account_id })\n",
    "MATCH (fund:Fund) WHERE fund.ticker = row.ticker\n",
    "CREATE (account)-[:PURCHASED {Num_Shares:row.number_of_shares, Purchase_Date:row.purchase_date}]->(fund)\"\"\")"
   ]
  },
  {
   "cell_type": "markdown",
   "metadata": {},
   "source": [
    "### Load a subset of account purchases as stock "
   ]
  },
  {
   "cell_type": "code",
   "execution_count": 135,
   "metadata": {},
   "outputs": [
    {
     "data": {
      "text/html": [
       "(No data)"
      ],
      "text/plain": [
       "(No data)"
      ]
     },
     "execution_count": 135,
     "metadata": {},
     "output_type": "execute_result"
    }
   ],
   "source": [
    "graph.run(\"\"\"LOAD CSV WITH HEADERS FROM \"file:///account_purchases.csv\" AS row\n",
    "WITH row\n",
    "WHERE NOT row.ticker  IN [\"VDIGX\", \"VMGAX\", \"VRNIX\", \"VFAIX\" ,\"VFIAX\"] \n",
    "CREATE (:Stock {ticker : row.ticker})\"\"\")"
   ]
  },
  {
   "cell_type": "markdown",
   "metadata": {},
   "source": [
    "### create relatopnship between account and stock \n"
   ]
  },
  {
   "cell_type": "code",
   "execution_count": 136,
   "metadata": {},
   "outputs": [
    {
     "data": {
      "text/html": [
       "(No data)"
      ],
      "text/plain": [
       "(No data)"
      ]
     },
     "execution_count": 136,
     "metadata": {},
     "output_type": "execute_result"
    }
   ],
   "source": [
    "graph.run(\"\"\"LOAD CSV WITH HEADERS FROM \"file:///account_purchases.csv\" AS row\n",
    "MATCH (account : Account {account_id : row.account_id })\n",
    "MATCH (stock: Stock {ticker: row.ticker})\n",
    "CREATE (stock)<-[:PURCHASED{Num_Shares:row.number_of_shares, Purchase_Date:row.purchase_date}]-(account)\"\"\")"
   ]
  },
  {
   "cell_type": "markdown",
   "metadata": {},
   "source": [
    "# Question 2a Find all Accounts that own MSFT stock directly through an individual account\n"
   ]
  },
  {
   "cell_type": "code",
   "execution_count": 137,
   "metadata": {},
   "outputs": [],
   "source": [
    "Msft_Accounts = 'MATCH (c:Customer) --  (a:Account {account_type: \"Individual\"})  -- (s:Stock {ticker: \"MSFT\"}) RETURN distinct c.owner_name,  a.account_id'"
   ]
  },
  {
   "cell_type": "code",
   "execution_count": 138,
   "metadata": {},
   "outputs": [],
   "source": [
    "df_Msft_Accounts  = graph.run(Msft_Accounts).to_data_frame()"
   ]
  },
  {
   "cell_type": "code",
   "execution_count": 139,
   "metadata": {},
   "outputs": [
    {
     "data": {
      "text/html": [
       "<div>\n",
       "<style scoped>\n",
       "    .dataframe tbody tr th:only-of-type {\n",
       "        vertical-align: middle;\n",
       "    }\n",
       "\n",
       "    .dataframe tbody tr th {\n",
       "        vertical-align: top;\n",
       "    }\n",
       "\n",
       "    .dataframe thead th {\n",
       "        text-align: right;\n",
       "    }\n",
       "</style>\n",
       "<table border=\"1\" class=\"dataframe\">\n",
       "  <thead>\n",
       "    <tr style=\"text-align: right;\">\n",
       "      <th></th>\n",
       "      <th>c.owner_name</th>\n",
       "      <th>a.account_id</th>\n",
       "    </tr>\n",
       "  </thead>\n",
       "  <tbody>\n",
       "    <tr>\n",
       "      <th>0</th>\n",
       "      <td>Ed Chowder</td>\n",
       "      <td>923457</td>\n",
       "    </tr>\n",
       "    <tr>\n",
       "      <th>1</th>\n",
       "      <td>Dan Nivalf</td>\n",
       "      <td>7009001</td>\n",
       "    </tr>\n",
       "    <tr>\n",
       "      <th>2</th>\n",
       "      <td>Alex R. Jones</td>\n",
       "      <td>123457</td>\n",
       "    </tr>\n",
       "  </tbody>\n",
       "</table>\n",
       "</div>"
      ],
      "text/plain": [
       "    c.owner_name a.account_id\n",
       "0     Ed Chowder       923457\n",
       "1     Dan Nivalf      7009001\n",
       "2  Alex R. Jones       123457"
      ]
     },
     "metadata": {},
     "output_type": "display_data"
    }
   ],
   "source": [
    "display(df_Msft_Accounts)\n"
   ]
  },
  {
   "cell_type": "markdown",
   "metadata": {},
   "source": [
    "# Question 2b Find all Accounts that hold MSFT through a mutual fund."
   ]
  },
  {
   "cell_type": "markdown",
   "metadata": {},
   "source": [
    "### Load fund holdings and create a relationship to fund holding \n"
   ]
  },
  {
   "cell_type": "code",
   "execution_count": 140,
   "metadata": {},
   "outputs": [
    {
     "data": {
      "text/html": [
       "(No data)"
      ],
      "text/plain": [
       "(No data)"
      ]
     },
     "execution_count": 140,
     "metadata": {},
     "output_type": "execute_result"
    }
   ],
   "source": [
    "graph.run(\"\"\"LOAD CSV WITH HEADERS FROM 'file:///fund_holdings.csv' AS row\n",
    "MATCH (Fund : Fund {ticker : row.fund_ticker })\n",
    "where Fund.ticker = row.fund_ticker\n",
    "CREATE (Fund)-[:HOLDS]->(ticker:fund_holding { percentage:row.percentage, holding_ticker:row.holding_ticker, fund_ticker:row.fund_ticker})\"\"\")"
   ]
  },
  {
   "cell_type": "code",
   "execution_count": 141,
   "metadata": {},
   "outputs": [],
   "source": [
    "\n",
    "Msft_Mutual_Accounts = \"\"\"MATCH (c:Customer) -[:HAS]->  (a:Account) \n",
    "-[:PURCHASED]->(f:Fund) -[:HOLDS]-> (fh:fund_holding {holding_ticker: \"MSFT\"})\n",
    "RETURN distinct c.owner_name,  a.account_id \"\"\""
   ]
  },
  {
   "cell_type": "code",
   "execution_count": 142,
   "metadata": {},
   "outputs": [
    {
     "data": {
      "text/html": [
       "<div>\n",
       "<style scoped>\n",
       "    .dataframe tbody tr th:only-of-type {\n",
       "        vertical-align: middle;\n",
       "    }\n",
       "\n",
       "    .dataframe tbody tr th {\n",
       "        vertical-align: top;\n",
       "    }\n",
       "\n",
       "    .dataframe thead th {\n",
       "        text-align: right;\n",
       "    }\n",
       "</style>\n",
       "<table border=\"1\" class=\"dataframe\">\n",
       "  <thead>\n",
       "    <tr style=\"text-align: right;\">\n",
       "      <th></th>\n",
       "      <th>c.owner_name</th>\n",
       "      <th>a.account_id</th>\n",
       "    </tr>\n",
       "  </thead>\n",
       "  <tbody>\n",
       "    <tr>\n",
       "      <th>0</th>\n",
       "      <td>Ed Chowder</td>\n",
       "      <td>923457</td>\n",
       "    </tr>\n",
       "    <tr>\n",
       "      <th>1</th>\n",
       "      <td>Alex R. Jones</td>\n",
       "      <td>123456</td>\n",
       "    </tr>\n",
       "    <tr>\n",
       "      <th>2</th>\n",
       "      <td>Alex R. Jones</td>\n",
       "      <td>123457</td>\n",
       "    </tr>\n",
       "    <tr>\n",
       "      <th>3</th>\n",
       "      <td>Ed Chowder</td>\n",
       "      <td>923456</td>\n",
       "    </tr>\n",
       "    <tr>\n",
       "      <th>4</th>\n",
       "      <td>Alex R. Jones</td>\n",
       "      <td>123458</td>\n",
       "    </tr>\n",
       "    <tr>\n",
       "      <th>5</th>\n",
       "      <td>Ed Chowder</td>\n",
       "      <td>923458</td>\n",
       "    </tr>\n",
       "    <tr>\n",
       "      <th>6</th>\n",
       "      <td>Soham Dipkar</td>\n",
       "      <td>7009991</td>\n",
       "    </tr>\n",
       "  </tbody>\n",
       "</table>\n",
       "</div>"
      ],
      "text/plain": [
       "    c.owner_name a.account_id\n",
       "0     Ed Chowder       923457\n",
       "1  Alex R. Jones       123456\n",
       "2  Alex R. Jones       123457\n",
       "3     Ed Chowder       923456\n",
       "4  Alex R. Jones       123458\n",
       "5     Ed Chowder       923458\n",
       "6   Soham Dipkar      7009991"
      ]
     },
     "metadata": {},
     "output_type": "display_data"
    }
   ],
   "source": [
    "df_Msft_Mutual_Accounts = graph.run(Msft_Mutual_Accounts).to_data_frame()\n",
    "display(df_Msft_Mutual_Accounts)"
   ]
  },
  {
   "cell_type": "markdown",
   "metadata": {},
   "source": [
    "# Question 2c Return a count of the number of times a fund holds a stock, sorted in descending count order"
   ]
  },
  {
   "cell_type": "code",
   "execution_count": 143,
   "metadata": {},
   "outputs": [],
   "source": [
    "Fund_Holds_Stock_Count = \"\"\"\n",
    "MATCH (fh:fund_holding) \n",
    "RETURN fh.holding_ticker, count(fh.fund_ticker) \n",
    "ORDER BY COUNT(fh.fund_ticker) DESC \"\"\""
   ]
  },
  {
   "cell_type": "code",
   "execution_count": 144,
   "metadata": {},
   "outputs": [
    {
     "data": {
      "text/html": [
       "<div>\n",
       "<style scoped>\n",
       "    .dataframe tbody tr th:only-of-type {\n",
       "        vertical-align: middle;\n",
       "    }\n",
       "\n",
       "    .dataframe tbody tr th {\n",
       "        vertical-align: top;\n",
       "    }\n",
       "\n",
       "    .dataframe thead th {\n",
       "        text-align: right;\n",
       "    }\n",
       "</style>\n",
       "<table border=\"1\" class=\"dataframe\">\n",
       "  <thead>\n",
       "    <tr style=\"text-align: right;\">\n",
       "      <th></th>\n",
       "      <th>fh.holding_ticker</th>\n",
       "      <th>count(fh.fund_ticker)</th>\n",
       "    </tr>\n",
       "  </thead>\n",
       "  <tbody>\n",
       "    <tr>\n",
       "      <th>0</th>\n",
       "      <td>MSFT</td>\n",
       "      <td>3</td>\n",
       "    </tr>\n",
       "    <tr>\n",
       "      <th>1</th>\n",
       "      <td>AAPL</td>\n",
       "      <td>3</td>\n",
       "    </tr>\n",
       "    <tr>\n",
       "      <th>2</th>\n",
       "      <td>AMZN</td>\n",
       "      <td>3</td>\n",
       "    </tr>\n",
       "    <tr>\n",
       "      <th>3</th>\n",
       "      <td>FB</td>\n",
       "      <td>3</td>\n",
       "    </tr>\n",
       "    <tr>\n",
       "      <th>4</th>\n",
       "      <td>GOOGL</td>\n",
       "      <td>3</td>\n",
       "    </tr>\n",
       "    <tr>\n",
       "      <th>5</th>\n",
       "      <td>GOOG</td>\n",
       "      <td>3</td>\n",
       "    </tr>\n",
       "    <tr>\n",
       "      <th>6</th>\n",
       "      <td>JPM</td>\n",
       "      <td>3</td>\n",
       "    </tr>\n",
       "    <tr>\n",
       "      <th>7</th>\n",
       "      <td>BRK.B</td>\n",
       "      <td>3</td>\n",
       "    </tr>\n",
       "    <tr>\n",
       "      <th>8</th>\n",
       "      <td>XOM</td>\n",
       "      <td>2</td>\n",
       "    </tr>\n",
       "    <tr>\n",
       "      <th>9</th>\n",
       "      <td>NKE</td>\n",
       "      <td>1</td>\n",
       "    </tr>\n",
       "    <tr>\n",
       "      <th>10</th>\n",
       "      <td>TJX</td>\n",
       "      <td>1</td>\n",
       "    </tr>\n",
       "    <tr>\n",
       "      <th>11</th>\n",
       "      <td>COST</td>\n",
       "      <td>1</td>\n",
       "    </tr>\n",
       "    <tr>\n",
       "      <th>12</th>\n",
       "      <td>KO</td>\n",
       "      <td>1</td>\n",
       "    </tr>\n",
       "    <tr>\n",
       "      <th>13</th>\n",
       "      <td>DEO</td>\n",
       "      <td>1</td>\n",
       "    </tr>\n",
       "    <tr>\n",
       "      <th>14</th>\n",
       "      <td>AMT</td>\n",
       "      <td>1</td>\n",
       "    </tr>\n",
       "    <tr>\n",
       "      <th>15</th>\n",
       "      <td>CB</td>\n",
       "      <td>1</td>\n",
       "    </tr>\n",
       "    <tr>\n",
       "      <th>16</th>\n",
       "      <td>UNP</td>\n",
       "      <td>1</td>\n",
       "    </tr>\n",
       "    <tr>\n",
       "      <th>17</th>\n",
       "      <td>ACM</td>\n",
       "      <td>1</td>\n",
       "    </tr>\n",
       "    <tr>\n",
       "      <th>18</th>\n",
       "      <td>UPS</td>\n",
       "      <td>1</td>\n",
       "    </tr>\n",
       "    <tr>\n",
       "      <th>19</th>\n",
       "      <td>CNI</td>\n",
       "      <td>1</td>\n",
       "    </tr>\n",
       "    <tr>\n",
       "      <th>20</th>\n",
       "      <td>CL</td>\n",
       "      <td>1</td>\n",
       "    </tr>\n",
       "    <tr>\n",
       "      <th>21</th>\n",
       "      <td>V</td>\n",
       "      <td>1</td>\n",
       "    </tr>\n",
       "    <tr>\n",
       "      <th>22</th>\n",
       "      <td>HD</td>\n",
       "      <td>1</td>\n",
       "    </tr>\n",
       "    <tr>\n",
       "      <th>23</th>\n",
       "      <td>BA</td>\n",
       "      <td>1</td>\n",
       "    </tr>\n",
       "    <tr>\n",
       "      <th>24</th>\n",
       "      <td>MA</td>\n",
       "      <td>1</td>\n",
       "    </tr>\n",
       "    <tr>\n",
       "      <th>25</th>\n",
       "      <td>ABBV</td>\n",
       "      <td>1</td>\n",
       "    </tr>\n",
       "    <tr>\n",
       "      <th>26</th>\n",
       "      <td>JNJ</td>\n",
       "      <td>1</td>\n",
       "    </tr>\n",
       "    <tr>\n",
       "      <th>27</th>\n",
       "      <td>BAC</td>\n",
       "      <td>1</td>\n",
       "    </tr>\n",
       "    <tr>\n",
       "      <th>28</th>\n",
       "      <td>WFC</td>\n",
       "      <td>1</td>\n",
       "    </tr>\n",
       "    <tr>\n",
       "      <th>29</th>\n",
       "      <td>C</td>\n",
       "      <td>1</td>\n",
       "    </tr>\n",
       "    <tr>\n",
       "      <th>30</th>\n",
       "      <td>GS</td>\n",
       "      <td>1</td>\n",
       "    </tr>\n",
       "    <tr>\n",
       "      <th>31</th>\n",
       "      <td>USB</td>\n",
       "      <td>1</td>\n",
       "    </tr>\n",
       "    <tr>\n",
       "      <th>32</th>\n",
       "      <td>AXP</td>\n",
       "      <td>1</td>\n",
       "    </tr>\n",
       "    <tr>\n",
       "      <th>33</th>\n",
       "      <td>MS</td>\n",
       "      <td>1</td>\n",
       "    </tr>\n",
       "    <tr>\n",
       "      <th>34</th>\n",
       "      <td>PNC</td>\n",
       "      <td>1</td>\n",
       "    </tr>\n",
       "    <tr>\n",
       "      <th>35</th>\n",
       "      <td>JNJ.B</td>\n",
       "      <td>1</td>\n",
       "    </tr>\n",
       "  </tbody>\n",
       "</table>\n",
       "</div>"
      ],
      "text/plain": [
       "   fh.holding_ticker  count(fh.fund_ticker)\n",
       "0               MSFT                      3\n",
       "1               AAPL                      3\n",
       "2               AMZN                      3\n",
       "3                 FB                      3\n",
       "4              GOOGL                      3\n",
       "5               GOOG                      3\n",
       "6                JPM                      3\n",
       "7              BRK.B                      3\n",
       "8                XOM                      2\n",
       "9                NKE                      1\n",
       "10               TJX                      1\n",
       "11              COST                      1\n",
       "12                KO                      1\n",
       "13               DEO                      1\n",
       "14               AMT                      1\n",
       "15                CB                      1\n",
       "16               UNP                      1\n",
       "17               ACM                      1\n",
       "18               UPS                      1\n",
       "19               CNI                      1\n",
       "20                CL                      1\n",
       "21                 V                      1\n",
       "22                HD                      1\n",
       "23                BA                      1\n",
       "24                MA                      1\n",
       "25              ABBV                      1\n",
       "26               JNJ                      1\n",
       "27               BAC                      1\n",
       "28               WFC                      1\n",
       "29                 C                      1\n",
       "30                GS                      1\n",
       "31               USB                      1\n",
       "32               AXP                      1\n",
       "33                MS                      1\n",
       "34               PNC                      1\n",
       "35             JNJ.B                      1"
      ]
     },
     "metadata": {},
     "output_type": "display_data"
    }
   ],
   "source": [
    "df_Fund_Holds_Stock_Count = graph.run(Fund_Holds_Stock_Count).to_data_frame()\n",
    "display(df_Fund_Holds_Stock_Count)"
   ]
  },
  {
   "cell_type": "markdown",
   "metadata": {},
   "source": [
    "# Question 2d Return the value of mutual fund holdings owned by ‘Ed Chowder’ close date = 5/15/18. Calculate the value of the fund holdings and order by fund name."
   ]
  },
  {
   "cell_type": "markdown",
   "metadata": {},
   "source": [
    "### load daily close data and create relationship from fund to fund_value \n"
   ]
  },
  {
   "cell_type": "code",
   "execution_count": 145,
   "metadata": {},
   "outputs": [
    {
     "data": {
      "text/html": [
       "(No data)"
      ],
      "text/plain": [
       "(No data)"
      ]
     },
     "execution_count": 145,
     "metadata": {},
     "output_type": "execute_result"
    }
   ],
   "source": [
    "graph.run(\"\"\"LOAD CSV WITH HEADERS FROM 'file:///daily_close.csv' AS row\n",
    "MATCH (Fund : Fund {ticker : row.ticker})\n",
    "CREATE (Fund)-[:HAS_VALUE]->(close:fund_value {ticker:row.ticker, close:row.close, date:row.date, numshares:row.Num_Shares})\n",
    "\"\"\")"
   ]
  },
  {
   "cell_type": "code",
   "execution_count": 146,
   "metadata": {},
   "outputs": [],
   "source": [
    "Ed_Chowder_Mutual_Value = \"\"\"\n",
    "MATCH (c:Customer  {owner_name: 'Ed Chowder'}) -[:HAS]->  (a:Account) -[p:PURCHASED]-> (f:Fund)-[:HAS_VALUE]->(fv:fund_value {date: \"2018-05-15\"}) \n",
    "RETURN c.owner_name, (a.account_id), f.ticker, f.fund_name, Round(SUM(toFloat(fv.close)*toFloat(p.Num_Shares)),1) As Value \n",
    "ORDER BY f.fund_name \"\"\""
   ]
  },
  {
   "cell_type": "code",
   "execution_count": 147,
   "metadata": {},
   "outputs": [
    {
     "data": {
      "text/html": [
       "<div>\n",
       "<style scoped>\n",
       "    .dataframe tbody tr th:only-of-type {\n",
       "        vertical-align: middle;\n",
       "    }\n",
       "\n",
       "    .dataframe tbody tr th {\n",
       "        vertical-align: top;\n",
       "    }\n",
       "\n",
       "    .dataframe thead th {\n",
       "        text-align: right;\n",
       "    }\n",
       "</style>\n",
       "<table border=\"1\" class=\"dataframe\">\n",
       "  <thead>\n",
       "    <tr style=\"text-align: right;\">\n",
       "      <th></th>\n",
       "      <th>c.owner_name</th>\n",
       "      <th>(a.account_id)</th>\n",
       "      <th>f.ticker</th>\n",
       "      <th>f.fund_name</th>\n",
       "      <th>Value</th>\n",
       "    </tr>\n",
       "  </thead>\n",
       "  <tbody>\n",
       "    <tr>\n",
       "      <th>0</th>\n",
       "      <td>Ed Chowder</td>\n",
       "      <td>923456</td>\n",
       "      <td>VFIAX</td>\n",
       "      <td>Vanguard 500 Index Fund</td>\n",
       "      <td>225783.0</td>\n",
       "    </tr>\n",
       "    <tr>\n",
       "      <th>1</th>\n",
       "      <td>Ed Chowder</td>\n",
       "      <td>923457</td>\n",
       "      <td>VDIGX</td>\n",
       "      <td>Vanguard Dividend Growth Fund</td>\n",
       "      <td>1324.5</td>\n",
       "    </tr>\n",
       "    <tr>\n",
       "      <th>2</th>\n",
       "      <td>Ed Chowder</td>\n",
       "      <td>923456</td>\n",
       "      <td>VDIGX</td>\n",
       "      <td>Vanguard Dividend Growth Fund</td>\n",
       "      <td>31788.0</td>\n",
       "    </tr>\n",
       "    <tr>\n",
       "      <th>3</th>\n",
       "      <td>Ed Chowder</td>\n",
       "      <td>923458</td>\n",
       "      <td>VFAIX</td>\n",
       "      <td>Vanguard Financial Index Fund</td>\n",
       "      <td>10338.5</td>\n",
       "    </tr>\n",
       "    <tr>\n",
       "      <th>4</th>\n",
       "      <td>Ed Chowder</td>\n",
       "      <td>923456</td>\n",
       "      <td>VFAIX</td>\n",
       "      <td>Vanguard Financial Index Fund</td>\n",
       "      <td>14260.0</td>\n",
       "    </tr>\n",
       "    <tr>\n",
       "      <th>5</th>\n",
       "      <td>Ed Chowder</td>\n",
       "      <td>923456</td>\n",
       "      <td>VMGAX</td>\n",
       "      <td>Vanguard Mega Cap Growth Index Fund</td>\n",
       "      <td>23192.0</td>\n",
       "    </tr>\n",
       "    <tr>\n",
       "      <th>6</th>\n",
       "      <td>Ed Chowder</td>\n",
       "      <td>923458</td>\n",
       "      <td>VRNIX</td>\n",
       "      <td>Vanguard Russell 1000 Index Fund</td>\n",
       "      <td>84476.0</td>\n",
       "    </tr>\n",
       "    <tr>\n",
       "      <th>7</th>\n",
       "      <td>Ed Chowder</td>\n",
       "      <td>923456</td>\n",
       "      <td>VRNIX</td>\n",
       "      <td>Vanguard Russell 1000 Index Fund</td>\n",
       "      <td>48272.0</td>\n",
       "    </tr>\n",
       "  </tbody>\n",
       "</table>\n",
       "</div>"
      ],
      "text/plain": [
       "  c.owner_name (a.account_id) f.ticker                          f.fund_name  \\\n",
       "0   Ed Chowder         923456    VFIAX              Vanguard 500 Index Fund   \n",
       "1   Ed Chowder         923457    VDIGX        Vanguard Dividend Growth Fund   \n",
       "2   Ed Chowder         923456    VDIGX        Vanguard Dividend Growth Fund   \n",
       "3   Ed Chowder         923458    VFAIX        Vanguard Financial Index Fund   \n",
       "4   Ed Chowder         923456    VFAIX        Vanguard Financial Index Fund   \n",
       "5   Ed Chowder         923456    VMGAX  Vanguard Mega Cap Growth Index Fund   \n",
       "6   Ed Chowder         923458    VRNIX     Vanguard Russell 1000 Index Fund   \n",
       "7   Ed Chowder         923456    VRNIX     Vanguard Russell 1000 Index Fund   \n",
       "\n",
       "      Value  \n",
       "0  225783.0  \n",
       "1    1324.5  \n",
       "2   31788.0  \n",
       "3   10338.5  \n",
       "4   14260.0  \n",
       "5   23192.0  \n",
       "6   84476.0  \n",
       "7   48272.0  "
      ]
     },
     "execution_count": 147,
     "metadata": {},
     "output_type": "execute_result"
    }
   ],
   "source": [
    "df_Ed_Chowder_Mutual_Value = graph.run(Ed_Chowder_Mutual_Value).to_data_frame()\n",
    "\n",
    "df_Ed_Chowder_Mutual_Value.sort_values(by=['f.fund_name'])"
   ]
  },
  {
   "cell_type": "markdown",
   "metadata": {},
   "source": [
    "# Question 3a Return account owner name(s) and account type(s) that own MSFT stock directly through an individual account or through a mutual fund. You do not have to count the number of account types a person owns (e.g. owner has more than one account type “Individual”)\n"
   ]
  },
  {
   "cell_type": "code",
   "execution_count": 148,
   "metadata": {},
   "outputs": [],
   "source": [
    "Msft_Individual_Or_Mututal = \"\"\"\n",
    "MATCH (c:Customer) -[:HAS]->  (a:Account) -[:PURCHASED]->(f:Fund) -[:HOLDS]-> (fh:fund_holding {holding_ticker: 'MSFT'})  \n",
    " RETURN DISTINCT c.owner_name,  a.account_id,  fh.holding_ticker as Ticker \n",
    " UNION \n",
    " MATCH   (c:Customer) -[:HAS]->(a:Account) -[:PURCHASED]->(s:Stock {ticker : 'MSFT'})  \n",
    " RETURN DISTINCT c.owner_name,  a.account_id,  s.ticker as Ticker \"\"\""
   ]
  },
  {
   "cell_type": "code",
   "execution_count": 149,
   "metadata": {},
   "outputs": [
    {
     "data": {
      "text/html": [
       "<div>\n",
       "<style scoped>\n",
       "    .dataframe tbody tr th:only-of-type {\n",
       "        vertical-align: middle;\n",
       "    }\n",
       "\n",
       "    .dataframe tbody tr th {\n",
       "        vertical-align: top;\n",
       "    }\n",
       "\n",
       "    .dataframe thead th {\n",
       "        text-align: right;\n",
       "    }\n",
       "</style>\n",
       "<table border=\"1\" class=\"dataframe\">\n",
       "  <thead>\n",
       "    <tr style=\"text-align: right;\">\n",
       "      <th></th>\n",
       "      <th>c.owner_name</th>\n",
       "      <th>a.account_id</th>\n",
       "      <th>Ticker</th>\n",
       "    </tr>\n",
       "  </thead>\n",
       "  <tbody>\n",
       "    <tr>\n",
       "      <th>0</th>\n",
       "      <td>Ed Chowder</td>\n",
       "      <td>923456</td>\n",
       "      <td>MSFT</td>\n",
       "    </tr>\n",
       "    <tr>\n",
       "      <th>1</th>\n",
       "      <td>Alex R. Jones</td>\n",
       "      <td>123457</td>\n",
       "      <td>MSFT</td>\n",
       "    </tr>\n",
       "    <tr>\n",
       "      <th>2</th>\n",
       "      <td>Alex R. Jones</td>\n",
       "      <td>123456</td>\n",
       "      <td>MSFT</td>\n",
       "    </tr>\n",
       "    <tr>\n",
       "      <th>3</th>\n",
       "      <td>Ed Chowder</td>\n",
       "      <td>923457</td>\n",
       "      <td>MSFT</td>\n",
       "    </tr>\n",
       "    <tr>\n",
       "      <th>4</th>\n",
       "      <td>Ed Chowder</td>\n",
       "      <td>923458</td>\n",
       "      <td>MSFT</td>\n",
       "    </tr>\n",
       "    <tr>\n",
       "      <th>5</th>\n",
       "      <td>Alex R. Jones</td>\n",
       "      <td>123458</td>\n",
       "      <td>MSFT</td>\n",
       "    </tr>\n",
       "    <tr>\n",
       "      <th>6</th>\n",
       "      <td>Soham Dipkar</td>\n",
       "      <td>7009991</td>\n",
       "      <td>MSFT</td>\n",
       "    </tr>\n",
       "    <tr>\n",
       "      <th>7</th>\n",
       "      <td>Dan Nivalf</td>\n",
       "      <td>7009001</td>\n",
       "      <td>MSFT</td>\n",
       "    </tr>\n",
       "  </tbody>\n",
       "</table>\n",
       "</div>"
      ],
      "text/plain": [
       "    c.owner_name a.account_id Ticker\n",
       "0     Ed Chowder       923456   MSFT\n",
       "1  Alex R. Jones       123457   MSFT\n",
       "2  Alex R. Jones       123456   MSFT\n",
       "3     Ed Chowder       923457   MSFT\n",
       "4     Ed Chowder       923458   MSFT\n",
       "5  Alex R. Jones       123458   MSFT\n",
       "6   Soham Dipkar      7009991   MSFT\n",
       "7     Dan Nivalf      7009001   MSFT"
      ]
     },
     "metadata": {},
     "output_type": "display_data"
    }
   ],
   "source": [
    "df_Msft_Individual_Or_Mututal = graph.run(Msft_Individual_Or_Mututal).to_data_frame()\n",
    "display(df_Msft_Individual_Or_Mututal)"
   ]
  },
  {
   "cell_type": "markdown",
   "metadata": {},
   "source": [
    "# Question 3b Return account owner name(s), account type(s), the fund or stock they own and total the value for the last day in the daily trading data. Do not hard code the last day in the query."
   ]
  },
  {
   "cell_type": "code",
   "execution_count": 150,
   "metadata": {},
   "outputs": [],
   "source": [
    "Accounts_Last_Day = \"\"\"\n",
    "MATCH (fva:fund_value) \n",
    "WITH max(fva.date) AS latest_date \n",
    "MATCH (c:Customer) -[:HAS]->  (a:Account) -[p:PURCHASED]->(f:Fund) -[:HAS_VALUE]->(fv:fund_value {date:latest_date}) \n",
    "RETURN c.owner_name, a.account_type, fv.date, f.ticker, (toFloat(fv.close)*toFloat(p.Num_Shares)) as value \n",
    "\"\"\""
   ]
  },
  {
   "cell_type": "code",
   "execution_count": 151,
   "metadata": {},
   "outputs": [
    {
     "data": {
      "text/html": [
       "<div>\n",
       "<style scoped>\n",
       "    .dataframe tbody tr th:only-of-type {\n",
       "        vertical-align: middle;\n",
       "    }\n",
       "\n",
       "    .dataframe tbody tr th {\n",
       "        vertical-align: top;\n",
       "    }\n",
       "\n",
       "    .dataframe thead th {\n",
       "        text-align: right;\n",
       "    }\n",
       "</style>\n",
       "<table border=\"1\" class=\"dataframe\">\n",
       "  <thead>\n",
       "    <tr style=\"text-align: right;\">\n",
       "      <th></th>\n",
       "      <th>c.owner_name</th>\n",
       "      <th>a.account_type</th>\n",
       "      <th>fv.date</th>\n",
       "      <th>f.ticker</th>\n",
       "      <th>value</th>\n",
       "    </tr>\n",
       "  </thead>\n",
       "  <tbody>\n",
       "    <tr>\n",
       "      <th>0</th>\n",
       "      <td>Alex R. Jones</td>\n",
       "      <td>401k</td>\n",
       "      <td>2018-06-22</td>\n",
       "      <td>VDIGX</td>\n",
       "      <td>2675.00</td>\n",
       "    </tr>\n",
       "    <tr>\n",
       "      <th>1</th>\n",
       "      <td>Alex R. Jones</td>\n",
       "      <td>Individual</td>\n",
       "      <td>2018-06-22</td>\n",
       "      <td>VDIGX</td>\n",
       "      <td>13375.00</td>\n",
       "    </tr>\n",
       "    <tr>\n",
       "      <th>2</th>\n",
       "      <td>Ed Chowder</td>\n",
       "      <td>401k</td>\n",
       "      <td>2018-06-22</td>\n",
       "      <td>VDIGX</td>\n",
       "      <td>32100.00</td>\n",
       "    </tr>\n",
       "    <tr>\n",
       "      <th>3</th>\n",
       "      <td>Ed Chowder</td>\n",
       "      <td>Individual</td>\n",
       "      <td>2018-06-22</td>\n",
       "      <td>VDIGX</td>\n",
       "      <td>1337.50</td>\n",
       "    </tr>\n",
       "    <tr>\n",
       "      <th>4</th>\n",
       "      <td>Alex R. Jones</td>\n",
       "      <td>401k</td>\n",
       "      <td>2018-06-22</td>\n",
       "      <td>VMGAX</td>\n",
       "      <td>48146.00</td>\n",
       "    </tr>\n",
       "    <tr>\n",
       "      <th>5</th>\n",
       "      <td>Ed Chowder</td>\n",
       "      <td>401k</td>\n",
       "      <td>2018-06-22</td>\n",
       "      <td>VMGAX</td>\n",
       "      <td>24073.00</td>\n",
       "    </tr>\n",
       "    <tr>\n",
       "      <th>6</th>\n",
       "      <td>Alex R. Jones</td>\n",
       "      <td>401k</td>\n",
       "      <td>2018-06-22</td>\n",
       "      <td>VRNIX</td>\n",
       "      <td>98524.00</td>\n",
       "    </tr>\n",
       "    <tr>\n",
       "      <th>7</th>\n",
       "      <td>Alex R. Jones</td>\n",
       "      <td>529 Plan</td>\n",
       "      <td>2018-06-22</td>\n",
       "      <td>VRNIX</td>\n",
       "      <td>12315.50</td>\n",
       "    </tr>\n",
       "    <tr>\n",
       "      <th>8</th>\n",
       "      <td>Ed Chowder</td>\n",
       "      <td>401k</td>\n",
       "      <td>2018-06-22</td>\n",
       "      <td>VRNIX</td>\n",
       "      <td>49262.00</td>\n",
       "    </tr>\n",
       "    <tr>\n",
       "      <th>9</th>\n",
       "      <td>Ed Chowder</td>\n",
       "      <td>529 Plan</td>\n",
       "      <td>2018-06-22</td>\n",
       "      <td>VRNIX</td>\n",
       "      <td>86208.50</td>\n",
       "    </tr>\n",
       "    <tr>\n",
       "      <th>10</th>\n",
       "      <td>Alex R. Jones</td>\n",
       "      <td>401k</td>\n",
       "      <td>2018-06-22</td>\n",
       "      <td>VFAIX</td>\n",
       "      <td>31248.00</td>\n",
       "    </tr>\n",
       "    <tr>\n",
       "      <th>11</th>\n",
       "      <td>Alex R. Jones</td>\n",
       "      <td>529 Plan</td>\n",
       "      <td>2018-06-22</td>\n",
       "      <td>VFAIX</td>\n",
       "      <td>3124.80</td>\n",
       "    </tr>\n",
       "    <tr>\n",
       "      <th>12</th>\n",
       "      <td>Ed Chowder</td>\n",
       "      <td>401k</td>\n",
       "      <td>2018-06-22</td>\n",
       "      <td>VFAIX</td>\n",
       "      <td>13888.00</td>\n",
       "    </tr>\n",
       "    <tr>\n",
       "      <th>13</th>\n",
       "      <td>Ed Chowder</td>\n",
       "      <td>529 Plan</td>\n",
       "      <td>2018-06-22</td>\n",
       "      <td>VFAIX</td>\n",
       "      <td>10068.80</td>\n",
       "    </tr>\n",
       "    <tr>\n",
       "      <th>14</th>\n",
       "      <td>Alex R. Jones</td>\n",
       "      <td>401k</td>\n",
       "      <td>2018-06-22</td>\n",
       "      <td>VFIAX</td>\n",
       "      <td>740921.00</td>\n",
       "    </tr>\n",
       "    <tr>\n",
       "      <th>15</th>\n",
       "      <td>Alex R. Jones</td>\n",
       "      <td>529 Plan</td>\n",
       "      <td>2018-06-22</td>\n",
       "      <td>VFIAX</td>\n",
       "      <td>74092.10</td>\n",
       "    </tr>\n",
       "    <tr>\n",
       "      <th>16</th>\n",
       "      <td>Alex R. Jones</td>\n",
       "      <td>529 Plan</td>\n",
       "      <td>2018-06-22</td>\n",
       "      <td>VFIAX</td>\n",
       "      <td>114970.50</td>\n",
       "    </tr>\n",
       "    <tr>\n",
       "      <th>17</th>\n",
       "      <td>Ed Chowder</td>\n",
       "      <td>401k</td>\n",
       "      <td>2018-06-22</td>\n",
       "      <td>VFIAX</td>\n",
       "      <td>229941.00</td>\n",
       "    </tr>\n",
       "    <tr>\n",
       "      <th>18</th>\n",
       "      <td>Soham Dipkar</td>\n",
       "      <td>Individual</td>\n",
       "      <td>2018-06-22</td>\n",
       "      <td>VFIAX</td>\n",
       "      <td>56718.78</td>\n",
       "    </tr>\n",
       "  </tbody>\n",
       "</table>\n",
       "</div>"
      ],
      "text/plain": [
       "     c.owner_name a.account_type     fv.date f.ticker      value\n",
       "0   Alex R. Jones           401k  2018-06-22    VDIGX    2675.00\n",
       "1   Alex R. Jones     Individual  2018-06-22    VDIGX   13375.00\n",
       "2      Ed Chowder           401k  2018-06-22    VDIGX   32100.00\n",
       "3      Ed Chowder     Individual  2018-06-22    VDIGX    1337.50\n",
       "4   Alex R. Jones           401k  2018-06-22    VMGAX   48146.00\n",
       "5      Ed Chowder           401k  2018-06-22    VMGAX   24073.00\n",
       "6   Alex R. Jones           401k  2018-06-22    VRNIX   98524.00\n",
       "7   Alex R. Jones       529 Plan  2018-06-22    VRNIX   12315.50\n",
       "8      Ed Chowder           401k  2018-06-22    VRNIX   49262.00\n",
       "9      Ed Chowder       529 Plan  2018-06-22    VRNIX   86208.50\n",
       "10  Alex R. Jones           401k  2018-06-22    VFAIX   31248.00\n",
       "11  Alex R. Jones       529 Plan  2018-06-22    VFAIX    3124.80\n",
       "12     Ed Chowder           401k  2018-06-22    VFAIX   13888.00\n",
       "13     Ed Chowder       529 Plan  2018-06-22    VFAIX   10068.80\n",
       "14  Alex R. Jones           401k  2018-06-22    VFIAX  740921.00\n",
       "15  Alex R. Jones       529 Plan  2018-06-22    VFIAX   74092.10\n",
       "16  Alex R. Jones       529 Plan  2018-06-22    VFIAX  114970.50\n",
       "17     Ed Chowder           401k  2018-06-22    VFIAX  229941.00\n",
       "18   Soham Dipkar     Individual  2018-06-22    VFIAX   56718.78"
      ]
     },
     "metadata": {},
     "output_type": "display_data"
    }
   ],
   "source": [
    "df_Accounts_Last_Day = graph.run(Accounts_Last_Day).to_data_frame()\n",
    "display(df_Accounts_Last_Day)"
   ]
  },
  {
   "cell_type": "markdown",
   "metadata": {},
   "source": [
    "# Visualisations"
   ]
  },
  {
   "cell_type": "markdown",
   "metadata": {},
   "source": [
    "### A plot of account value by account owner"
   ]
  },
  {
   "cell_type": "code",
   "execution_count": 152,
   "metadata": {},
   "outputs": [
    {
     "data": {
      "image/png": "[encoded data removed]",
      "text/plain": [
       "<Figure size 640x480 with 1 Axes>"
      ]
     },
     "metadata": {},
     "output_type": "display_data"
    }
   ],
   "source": [
    "df_Accounts_Last_Day.plot.bar(x='c.owner_name', y='value', rot=70, title=\"Account Closing Value\");\n",
    "\n",
    "plot.show(block=True);"
   ]
  },
  {
   "cell_type": "markdown",
   "metadata": {},
   "source": [
    "### The above is grouped by the account/ticker. Aggregate to see the total value by each customer"
   ]
  },
  {
   "cell_type": "code",
   "execution_count": 153,
   "metadata": {},
   "outputs": [],
   "source": [
    "df_Customer_Last_Day = df_Accounts_Last_Day.groupby(['c.owner_name'])['value'].sum()\n"
   ]
  },
  {
   "cell_type": "code",
   "execution_count": 154,
   "metadata": {},
   "outputs": [
    {
     "data": {
      "image/png": "[encoded data removed]",
      "text/plain": [
       "<Figure size 640x480 with 1 Axes>"
      ]
     },
     "metadata": {},
     "output_type": "display_data"
    }
   ],
   "source": [
    "df_Customer_Last_Day.plot.bar(x='c.owner_name', y='value', rot=70, title=\"Customer Closing Value\");\n",
    "\n",
    "plot.show(block=True);"
   ]
  },
  {
   "cell_type": "markdown",
   "metadata": {},
   "source": [
    "### Ed Chowder 5/15/18 total value by fund "
   ]
  },
  {
   "cell_type": "code",
   "execution_count": 155,
   "metadata": {},
   "outputs": [
    {
     "data": {
      "text/html": [
       "<div>\n",
       "<style scoped>\n",
       "    .dataframe tbody tr th:only-of-type {\n",
       "        vertical-align: middle;\n",
       "    }\n",
       "\n",
       "    .dataframe tbody tr th {\n",
       "        vertical-align: top;\n",
       "    }\n",
       "\n",
       "    .dataframe thead th {\n",
       "        text-align: right;\n",
       "    }\n",
       "</style>\n",
       "<table border=\"1\" class=\"dataframe\">\n",
       "  <thead>\n",
       "    <tr style=\"text-align: right;\">\n",
       "      <th></th>\n",
       "      <th>c.owner_name</th>\n",
       "      <th>(a.account_id)</th>\n",
       "      <th>f.ticker</th>\n",
       "      <th>f.fund_name</th>\n",
       "      <th>Value</th>\n",
       "    </tr>\n",
       "  </thead>\n",
       "  <tbody>\n",
       "    <tr>\n",
       "      <th>0</th>\n",
       "      <td>Ed Chowder</td>\n",
       "      <td>923456</td>\n",
       "      <td>VFIAX</td>\n",
       "      <td>Vanguard 500 Index Fund</td>\n",
       "      <td>225783.0</td>\n",
       "    </tr>\n",
       "    <tr>\n",
       "      <th>1</th>\n",
       "      <td>Ed Chowder</td>\n",
       "      <td>923457</td>\n",
       "      <td>VDIGX</td>\n",
       "      <td>Vanguard Dividend Growth Fund</td>\n",
       "      <td>1324.5</td>\n",
       "    </tr>\n",
       "    <tr>\n",
       "      <th>2</th>\n",
       "      <td>Ed Chowder</td>\n",
       "      <td>923456</td>\n",
       "      <td>VDIGX</td>\n",
       "      <td>Vanguard Dividend Growth Fund</td>\n",
       "      <td>31788.0</td>\n",
       "    </tr>\n",
       "    <tr>\n",
       "      <th>3</th>\n",
       "      <td>Ed Chowder</td>\n",
       "      <td>923458</td>\n",
       "      <td>VFAIX</td>\n",
       "      <td>Vanguard Financial Index Fund</td>\n",
       "      <td>10338.5</td>\n",
       "    </tr>\n",
       "    <tr>\n",
       "      <th>4</th>\n",
       "      <td>Ed Chowder</td>\n",
       "      <td>923456</td>\n",
       "      <td>VFAIX</td>\n",
       "      <td>Vanguard Financial Index Fund</td>\n",
       "      <td>14260.0</td>\n",
       "    </tr>\n",
       "    <tr>\n",
       "      <th>5</th>\n",
       "      <td>Ed Chowder</td>\n",
       "      <td>923456</td>\n",
       "      <td>VMGAX</td>\n",
       "      <td>Vanguard Mega Cap Growth Index Fund</td>\n",
       "      <td>23192.0</td>\n",
       "    </tr>\n",
       "    <tr>\n",
       "      <th>6</th>\n",
       "      <td>Ed Chowder</td>\n",
       "      <td>923458</td>\n",
       "      <td>VRNIX</td>\n",
       "      <td>Vanguard Russell 1000 Index Fund</td>\n",
       "      <td>84476.0</td>\n",
       "    </tr>\n",
       "    <tr>\n",
       "      <th>7</th>\n",
       "      <td>Ed Chowder</td>\n",
       "      <td>923456</td>\n",
       "      <td>VRNIX</td>\n",
       "      <td>Vanguard Russell 1000 Index Fund</td>\n",
       "      <td>48272.0</td>\n",
       "    </tr>\n",
       "  </tbody>\n",
       "</table>\n",
       "</div>"
      ],
      "text/plain": [
       "  c.owner_name (a.account_id) f.ticker                          f.fund_name  \\\n",
       "0   Ed Chowder         923456    VFIAX              Vanguard 500 Index Fund   \n",
       "1   Ed Chowder         923457    VDIGX        Vanguard Dividend Growth Fund   \n",
       "2   Ed Chowder         923456    VDIGX        Vanguard Dividend Growth Fund   \n",
       "3   Ed Chowder         923458    VFAIX        Vanguard Financial Index Fund   \n",
       "4   Ed Chowder         923456    VFAIX        Vanguard Financial Index Fund   \n",
       "5   Ed Chowder         923456    VMGAX  Vanguard Mega Cap Growth Index Fund   \n",
       "6   Ed Chowder         923458    VRNIX     Vanguard Russell 1000 Index Fund   \n",
       "7   Ed Chowder         923456    VRNIX     Vanguard Russell 1000 Index Fund   \n",
       "\n",
       "      Value  \n",
       "0  225783.0  \n",
       "1    1324.5  \n",
       "2   31788.0  \n",
       "3   10338.5  \n",
       "4   14260.0  \n",
       "5   23192.0  \n",
       "6   84476.0  \n",
       "7   48272.0  "
      ]
     },
     "execution_count": 155,
     "metadata": {},
     "output_type": "execute_result"
    }
   ],
   "source": [
    "df_Ed_Chowder_Mutual_Value"
   ]
  },
  {
   "cell_type": "code",
   "execution_count": 157,
   "metadata": {},
   "outputs": [
    {
     "data": {
      "image/png": "[encoded data removed]",
      "text/plain": [
       "<Figure size 640x480 with 1 Axes>"
      ]
     },
     "metadata": {},
     "output_type": "display_data"
    }
   ],
   "source": [
    "df_Ed_Chowder_Mutual_Agg_Value = df_Ed_Chowder_Mutual_Value.groupby(['f.fund_name'])['Value'].sum()\n",
    "\n",
    "df_Ed_Chowder_Mutual_Agg_Value.plot.barh( x='Value', y='f.fund_name', title=\"Ed Chowder 5/15/18\");\n",
    "\n",
    "plot.show(block=True);"
   ]
  },
  {
   "cell_type": "code",
   "execution_count": null,
   "metadata": {},
   "outputs": [],
   "source": []
  },
  {
   "cell_type": "code",
   "execution_count": null,
   "metadata": {},
   "outputs": [],
   "source": []
  }
 ],
 "metadata": {
  "kernelspec": {
   "display_name": "Python 3",
   "language": "python",
   "name": "python3"
  },
  "language_info": {
   "codemirror_mode": {
    "name": "ipython",
    "version": 3
   },
   "file_extension": ".py",
   "mimetype": "text/x-python",
   "name": "python",
   "nbconvert_exporter": "python",
   "pygments_lexer": "ipython3",
   "version": "3.8.5"
  }
 },
 "nbformat": 4,
 "nbformat_minor": 4
}
